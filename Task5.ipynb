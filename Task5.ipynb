{
 "cells": [
  {
   "cell_type": "code",
   "execution_count": 8,
   "id": "c59306fa-d1cd-4bfb-81a0-9bdd40ca8170",
   "metadata": {},
   "outputs": [
    {
     "name": "stdout",
     "output_type": "stream",
     "text": [
      "<snowflake.core._root.Root object at 0x1170f01c0>\n"
     ]
    }
   ],
   "source": [
    "from snowflake.snowpark import Session\n",
    "from snowflake.core import Root, CreateMode\n",
    "from snowflake.core.database import Database\n",
    "from snowflake.core.schema import Schema\n",
    "from snowflake.core.table import Table, TableColumn, PrimaryKey\n",
    "from snowflake.core.warehouse import Warehouse\n",
    "from snowflake.core._common import CreateMode\n",
    "\n",
    "connection_params = {\n",
    "    \"account\": \"fntvxro-ae14073\",\n",
    "    \"user\": \"BHARATHI14\",\n",
    "    \"password\": \"Rajagill@21\"\n",
    "}\n",
    "\n",
    "session = Session.builder.configs(connection_params).create()\n",
    "root = Root(session)\n",
    "print(root);\n"
   ]
  },
  {
   "cell_type": "code",
   "execution_count": 9,
   "id": "2b1e7414-7731-4420-9136-56df1570b46e",
   "metadata": {},
   "outputs": [],
   "source": [
    "database = root.databases.create(\n",
    "  Database(\n",
    "    name=\"PYTHON_API_DB\"),\n",
    "    mode=CreateMode.or_replace\n",
    "  )"
   ]
  },
  {
   "cell_type": "code",
   "execution_count": 10,
   "id": "527fc86b-294e-4c92-9dfc-3f8d5c0a3d09",
   "metadata": {},
   "outputs": [],
   "source": [
    "schema = database.schemas.create(\n",
    "  Schema(\n",
    "    name=\"PYTHON_API_SCHEMA\"),\n",
    "    mode=CreateMode.or_replace,\n",
    "  )"
   ]
  },
  {
   "cell_type": "code",
   "execution_count": 11,
   "id": "70dad7b2-73cf-4416-baa9-803ed69b704d",
   "metadata": {},
   "outputs": [],
   "source": [
    "table = schema.tables.create(\n",
    "  Table(\n",
    "    name=\"PYTHON_API_TABLE\",\n",
    "    columns=[\n",
    "      TableColumn(\n",
    "        name=\"TEMPERATURE\",\n",
    "        datatype=\"int\",\n",
    "        nullable=False,\n",
    "      ),\n",
    "      TableColumn(\n",
    "        name=\"LOCATION\",\n",
    "        datatype=\"string\",\n",
    "      ),\n",
    "    ],\n",
    "  ),\n",
    "mode=CreateMode.or_replace\n",
    ")"
   ]
  },
  {
   "cell_type": "code",
   "execution_count": 12,
   "id": "720cece2-da69-46ea-8f51-2081f4f87425",
   "metadata": {},
   "outputs": [],
   "source": [
    "table_details = table.fetch()"
   ]
  },
  {
   "cell_type": "code",
   "execution_count": 13,
   "id": "ef1d4075-5f78-4283-b235-3d53fee660dd",
   "metadata": {},
   "outputs": [
    {
     "data": {
      "text/plain": [
       "{'name': 'PYTHON_API_TABLE',\n",
       " 'kind': '',\n",
       " 'enable_schema_evolution': False,\n",
       " 'change_tracking': False,\n",
       " 'data_retention_time_in_days': 1,\n",
       " 'max_data_extension_time_in_days': 14,\n",
       " 'default_ddl_collation': '',\n",
       " 'columns': [{'name': 'TEMPERATURE',\n",
       "   'datatype': 'NUMBER(38,0)',\n",
       "   'nullable': False},\n",
       "  {'name': 'LOCATION', 'datatype': 'VARCHAR(16777216)', 'nullable': True}]}"
      ]
     },
     "execution_count": 13,
     "metadata": {},
     "output_type": "execute_result"
    }
   ],
   "source": [
    "table_details.to_dict()"
   ]
  },
  {
   "cell_type": "code",
   "execution_count": 14,
   "id": "02ddb389-1f46-46d0-9aa3-68f8aef5a717",
   "metadata": {},
   "outputs": [],
   "source": [
    "table_details.columns.append(\n",
    "    TableColumn(\n",
    "      name=\"elevation\",\n",
    "      datatype=\"int\",\n",
    "      nullable=False,\n",
    "      constraints=[PrimaryKey()],\n",
    "    )\n",
    ")"
   ]
  },
  {
   "cell_type": "code",
   "execution_count": 15,
   "id": "5b8e2c6c-e952-4939-a61e-05888c3bf150",
   "metadata": {},
   "outputs": [],
   "source": [
    "table.create_or_update(table_details)"
   ]
  },
  {
   "cell_type": "code",
   "execution_count": 16,
   "id": "6ea7afb3-a78f-4ac7-af54-5dca8750c902",
   "metadata": {},
   "outputs": [
    {
     "data": {
      "text/plain": [
       "{'name': 'PYTHON_API_TABLE',\n",
       " 'kind': '',\n",
       " 'enable_schema_evolution': False,\n",
       " 'change_tracking': False,\n",
       " 'data_retention_time_in_days': 1,\n",
       " 'max_data_extension_time_in_days': 14,\n",
       " 'default_ddl_collation': '',\n",
       " 'columns': [{'name': 'TEMPERATURE',\n",
       "   'datatype': 'NUMBER(38,0)',\n",
       "   'nullable': False},\n",
       "  {'name': 'LOCATION', 'datatype': 'VARCHAR(16777216)', 'nullable': True},\n",
       "  {'name': 'ELEVATION', 'datatype': 'NUMBER(38,0)', 'nullable': False}],\n",
       " 'constraints': [{'name': 'ELEVATION',\n",
       "   'column_names': ['ELEVATION'],\n",
       "   'constraint_type': 'PRIMARY KEY'}]}"
      ]
     },
     "execution_count": 16,
     "metadata": {},
     "output_type": "execute_result"
    }
   ],
   "source": [
    "table.fetch().to_dict()"
   ]
  },
  {
   "cell_type": "code",
   "execution_count": 17,
   "id": "6d3c4360-5dcc-4ef7-9844-f33fe898ba2f",
   "metadata": {},
   "outputs": [],
   "source": [
    "warehouses = root.warehouses"
   ]
  },
  {
   "cell_type": "code",
   "execution_count": 18,
   "id": "4cf2bd04-b2b9-40b0-b23f-1e0bbafd5742",
   "metadata": {},
   "outputs": [],
   "source": [
    "python_api_wh = Warehouse(\n",
    "    name=\"PYTHON_API_WH\",\n",
    "    warehouse_size=\"SMALL\",\n",
    "    auto_suspend=500,\n",
    ")\n",
    "\n",
    "warehouse = warehouses.create(python_api_wh,mode=CreateMode.or_replace)"
   ]
  },
  {
   "cell_type": "code",
   "execution_count": 19,
   "id": "3bd58ac8-8d3a-4933-9ece-e824c62b7efd",
   "metadata": {},
   "outputs": [
    {
     "data": {
      "text/plain": [
       "{'name': 'PYTHON_API_WH',\n",
       " 'warehouse_type': 'STANDARD',\n",
       " 'warehouse_size': 'Small',\n",
       " 'auto_suspend': 500,\n",
       " 'auto_resume': 'true',\n",
       " 'resource_monitor': 'null',\n",
       " 'comment': '',\n",
       " 'max_concurrency_level': 8,\n",
       " 'statement_queued_timeout_in_seconds': 0,\n",
       " 'statement_timeout_in_seconds': 172800,\n",
       " 'type': 'STANDARD',\n",
       " 'size': 'Small'}"
      ]
     },
     "execution_count": 19,
     "metadata": {},
     "output_type": "execute_result"
    }
   ],
   "source": [
    "warehouse_details = warehouse.fetch()\n",
    "warehouse_details.to_dict()"
   ]
  },
  {
   "cell_type": "code",
   "execution_count": 20,
   "id": "8c54239f-ae91-4645-b40a-4ceabe1d5fb2",
   "metadata": {},
   "outputs": [
    {
     "data": {
      "text/plain": [
       "{'name': 'PYTHON_API_WH',\n",
       " 'warehouse_type': 'STANDARD',\n",
       " 'warehouse_size': 'Small',\n",
       " 'auto_suspend': 500,\n",
       " 'auto_resume': 'true',\n",
       " 'resource_monitor': 'null',\n",
       " 'comment': '',\n",
       " 'max_concurrency_level': 8,\n",
       " 'statement_queued_timeout_in_seconds': 0,\n",
       " 'statement_timeout_in_seconds': 172800,\n",
       " 'type': 'STANDARD',\n",
       " 'size': 'Small'}"
      ]
     },
     "execution_count": 20,
     "metadata": {},
     "output_type": "execute_result"
    }
   ],
   "source": [
    "warehouse_list = warehouses.iter(like=\"PYTHON_API_WH\")\n",
    "result = next(warehouse_list)\n",
    "result.to_dict()"
   ]
  },
  {
   "cell_type": "code",
   "execution_count": 21,
   "id": "7cfc87d3-e6ac-465d-a53f-d6c165508887",
   "metadata": {},
   "outputs": [],
   "source": [
    "warehouse = root.warehouses.create(Warehouse(\n",
    "    name=\"PYTHON_API_WH\",\n",
    "    warehouse_size=\"LARGE\",\n",
    "    auto_suspend=500,\n",
    "), mode=CreateMode.or_replace)"
   ]
  },
  {
   "cell_type": "code",
   "execution_count": 22,
   "id": "97811376-9ef4-4728-96e8-b7b62583dfb5",
   "metadata": {},
   "outputs": [
    {
     "data": {
      "text/plain": [
       "'Large'"
      ]
     },
     "execution_count": 22,
     "metadata": {},
     "output_type": "execute_result"
    }
   ],
   "source": [
    "warehouse.fetch().size"
   ]
  },
  {
   "cell_type": "code",
   "execution_count": null,
   "id": "b78ff131-0760-4cbc-a450-eced449bac90",
   "metadata": {},
   "outputs": [],
   "source": []
  }
 ],
 "metadata": {
  "kernelspec": {
   "display_name": "Python 3 (ipykernel)",
   "language": "python",
   "name": "python3"
  },
  "language_info": {
   "codemirror_mode": {
    "name": "ipython",
    "version": 3
   },
   "file_extension": ".py",
   "mimetype": "text/x-python",
   "name": "python",
   "nbconvert_exporter": "python",
   "pygments_lexer": "ipython3",
   "version": "3.10.14"
  }
 },
 "nbformat": 4,
 "nbformat_minor": 5
}
